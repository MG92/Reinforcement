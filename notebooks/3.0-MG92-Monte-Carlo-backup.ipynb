{
 "cells": [
  {
   "cell_type": "markdown",
   "metadata": {},
   "source": [
    "Rather than bootstrapping for eps, use MC methods"
   ]
  },
  {
   "cell_type": "code",
   "execution_count": 7,
   "metadata": {},
   "outputs": [],
   "source": [
    "import gym\n",
    "import numpy as np\n",
    "import pandas as pd"
   ]
  },
  {
   "cell_type": "code",
   "execution_count": 27,
   "metadata": {},
   "outputs": [
    {
     "name": "stdout",
     "output_type": "stream",
     "text": [
      "Num actions: 6\n"
     ]
    }
   ],
   "source": [
    "print('Num actions: %i'%env.nA)"
   ]
  },
  {
   "cell_type": "code",
   "execution_count": 2,
   "metadata": {
    "scrolled": true
   },
   "outputs": [],
   "source": [
    "import Box2D\n",
    "env = gym.make('Blackjack-v0')#.env\n",
    "rand_pol = np.random.randint(0,6,1000)\n",
    "obs= env.reset()\n",
    "#env.render()"
   ]
  },
  {
   "cell_type": "markdown",
   "metadata": {},
   "source": [
    "Blackjack rules and scoring:\n",
    "    - first to make 21\n",
    "    - Reward for stick:\n",
    "        - +1 if sum of cards > sum of dealer cards 0 if sum of cards = sum of dealer cards -1 if sum of cards < sum of dealer cards\n",
    "        - Reward for twist:\n",
    "        - -1 if sum of cards > 21 (and terminate)\n",
    "        - 0 otherwise"
   ]
  },
  {
   "cell_type": "code",
   "execution_count": 3,
   "metadata": {},
   "outputs": [
    {
     "name": "stdout",
     "output_type": "stream",
     "text": [
      "Discrete(2)\n",
      "Tuple(Discrete(32), Discrete(11), Discrete(2))\n"
     ]
    }
   ],
   "source": [
    "print(env.action_space)\n",
    "print(env.observation_space)"
   ]
  },
  {
   "cell_type": "code",
   "execution_count": 10,
   "metadata": {},
   "outputs": [
    {
     "name": "stdout",
     "output_type": "stream",
     "text": [
      "              0    1\n",
      "0     (4, 4, 1)  0.0\n",
      "1     (5, 5, 1)  0.0\n",
      "2     (6, 6, 1)  0.0\n",
      "3     (7, 7, 1)  0.0\n",
      "4     (8, 8, 1)  0.0\n",
      "5     (9, 9, 1)  0.0\n",
      "6   (10, 10, 1)  0.0\n",
      "7   (11, 11, 1)  0.0\n",
      "8   (12, 12, 1)  0.0\n",
      "9   (13, 13, 0) -1.0\n",
      "10  (13, 13, 1)  0.0\n",
      "11  (14, 14, 0)  1.0\n",
      "12  (14, 14, 1)  0.0\n",
      "13  (15, 15, 0) -1.0\n",
      "14  (15, 15, 1)  0.0\n",
      "15  (16, 16, 0) -1.0\n",
      "16  (16, 16, 1)  0.0\n",
      "17  (17, 17, 0) -1.0\n",
      "18  (17, 17, 1)  0.0\n",
      "19  (18, 18, 0)  0.0\n",
      "20  (18, 18, 1)  0.0\n",
      "21  (19, 19, 0)  0.0\n",
      "22  (19, 19, 1)  0.0\n",
      "23  (20, 20, 0)  1.0\n",
      "24  (21, 21, 0)  1.0\n",
      "25  (22, 22, 1) -1.0\n",
      "26  (23, 23, 1) -1.0\n",
      "27  (24, 24, 1) -1.0\n",
      "28  (25, 25, 1) -1.0\n",
      "29  (26, 26, 1) -1.0\n",
      "30  (27, 27, 1) -1.0\n",
      "31  (28, 28, 1) -1.0\n",
      "32  (29, 29, 1) -1.0\n"
     ]
    }
   ],
   "source": [
    "def policy(score):\n",
    "    if score <=12:\n",
    "        return 1\n",
    "    elif score >=20:\n",
    "        return 0\n",
    "    else:\n",
    "        r = np.random.randint(1,10)\n",
    "        if r<=5:\n",
    "            return 0\n",
    "        else:\n",
    "            return 1\n",
    "\n",
    "def every_visit_mc(env, n_eps=1000):\n",
    "    all_visits={}\n",
    "    count_visits={}\n",
    "    returns ={}\n",
    "    \n",
    "    #generate episode \n",
    "    for ep in range(n_eps):\n",
    "        list_s=[]\n",
    "        \n",
    "        ep_visits={}\n",
    "        ep_counts = {}\n",
    "        ep_returns = {}\n",
    "        rew=0.0\n",
    "        \n",
    "        observation =env.reset()\n",
    "        action=policy(observation[0])\n",
    "        \n",
    "        list_s.append([observation[0], observation[1], action, rew])\n",
    "        \n",
    "        for t in range(100):\n",
    "            \n",
    "            score, dealer_score, ace = observation\n",
    "            action = policy(score)\n",
    "            observation, rew, done, info = env.step(action)\n",
    "            list_s.append([observation[0], observation[1], action, rew])\n",
    "            \n",
    "            if done:\n",
    "                break\n",
    "\n",
    "        for (state, d_state, action, rew) in list_s:\n",
    "            if not (state,action) in ep_visits.keys():\n",
    "                if (state==20 or state==21) and rew==0.0:\n",
    "                    continue\n",
    "                else:\n",
    "                    ep_visits[(state, d_state, action)]=float(rew)\n",
    "                    ep_counts[(state, d_state, action)]=1.0\n",
    "                    all_visits[(state, d_state, action)]=float(rew)\n",
    "                    count_visits[(state, d_state, action)]=1.0\n",
    "            else:\n",
    "                ep_visits[(state, d_state, action)]+=float(rew)\n",
    "                ep_counts[(state, d_state, action)]+=1.0\n",
    "                count_visits[(state, d_state, action)]+=1.0\n",
    "                all_visits[(state, d_state, action)]+=float(rew)\n",
    "       \n",
    "        for ((state, d_state, action),rew) in ep_visits.items():\n",
    "            ep_returns[(state, d_state, action)]=ep_visits[(state, d_state, action)]/ep_counts[(state, d_state,action)]\n",
    "        #print('Returns for this episode: %s \\n'%ep_returns)\n",
    "\n",
    "    #Take the average across all episodes \n",
    "    for ((state, d_state, action), rew) in all_visits.items():\n",
    "        returns[(state, state, action)]=all_visits[(state, d_state, action)]/count_visits[(state, d_state, action)]\n",
    "    #print('Final avg returns: %s \\n'%returns)\n",
    "        \n",
    "    return returns\n",
    "    \n",
    "dic = every_visit_mc(env)\n",
    "\n",
    "print(pd.DataFrame.from_dict(sorted(dic.items(), key= lambda x:x)))"
   ]
  },
  {
   "cell_type": "markdown",
   "metadata": {},
   "source": [
    "Becuase we cannot subtract cards in blackjack, every-visit MC would produce the same results as first-visit"
   ]
  },
  {
   "cell_type": "code",
   "execution_count": null,
   "metadata": {},
   "outputs": [],
   "source": []
  }
 ],
 "metadata": {
  "kernelspec": {
   "display_name": "Python 3",
   "language": "python",
   "name": "python3"
  },
  "language_info": {
   "codemirror_mode": {
    "name": "ipython",
    "version": 3
   },
   "file_extension": ".py",
   "mimetype": "text/x-python",
   "name": "python",
   "nbconvert_exporter": "python",
   "pygments_lexer": "ipython3",
   "version": "3.6.3"
  }
 },
 "nbformat": 4,
 "nbformat_minor": 2
}
