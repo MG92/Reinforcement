{
 "cells": [
  {
   "cell_type": "markdown",
   "metadata": {},
   "source": [
    "Rather than bootstrapping for eps, use MC methods"
   ]
  },
  {
   "cell_type": "code",
   "execution_count": 2,
   "metadata": {},
   "outputs": [],
   "source": [
    "import gym\n",
    "import numpy as np"
   ]
  },
  {
   "cell_type": "code",
   "execution_count": 26,
   "metadata": {
    "scrolled": true
   },
   "outputs": [
    {
     "name": "stdout",
     "output_type": "stream",
     "text": [
      "\n",
      "\u001b[41mS\u001b[0mFFF\n",
      "FHFH\n",
      "FFFH\n",
      "HFFG\n"
     ]
    }
   ],
   "source": [
    "env = gym.make('FrozenLake-v0').env\n",
    "rand_pol = [0,1,2,1,0,1,1,3,1,0,1,2,1,0,1,1,3,1]\n",
    "obs= env.reset()\n",
    "env.render()"
   ]
  },
  {
   "cell_type": "code",
   "execution_count": 35,
   "metadata": {},
   "outputs": [
    {
     "ename": "AttributeError",
     "evalue": "'numpy.ndarray' object has no attribute 'append'",
     "output_type": "error",
     "traceback": [
      "\u001b[0;31m---------------------------------------------------------------------------\u001b[0m",
      "\u001b[0;31mAttributeError\u001b[0m                            Traceback (most recent call last)",
      "\u001b[0;32m<ipython-input-35-4fbc2138ade0>\u001b[0m in \u001b[0;36m<module>\u001b[0;34m()\u001b[0m\n\u001b[1;32m     32\u001b[0m         \u001b[0;32mreturn\u001b[0m\u001b[0;34m\u001b[0m\u001b[0m\n\u001b[1;32m     33\u001b[0m \u001b[0;34m\u001b[0m\u001b[0m\n\u001b[0;32m---> 34\u001b[0;31m \u001b[0mmc_predict\u001b[0m\u001b[0;34m(\u001b[0m\u001b[0menv\u001b[0m\u001b[0;34m,\u001b[0m \u001b[0mrand_pol\u001b[0m\u001b[0;34m)\u001b[0m\u001b[0;34m\u001b[0m\u001b[0m\n\u001b[0m",
      "\u001b[0;32m<ipython-input-35-4fbc2138ade0>\u001b[0m in \u001b[0;36mmc_predict\u001b[0;34m(env, policy, n_eps)\u001b[0m\n\u001b[1;32m     13\u001b[0m             \u001b[0mact\u001b[0m\u001b[0;34m=\u001b[0m\u001b[0mpolicy\u001b[0m\u001b[0;34m[\u001b[0m\u001b[0ms\u001b[0m\u001b[0;34m]\u001b[0m\u001b[0;34m\u001b[0m\u001b[0m\n\u001b[1;32m     14\u001b[0m             \u001b[0mnext_state\u001b[0m\u001b[0;34m,\u001b[0m \u001b[0mrew\u001b[0m\u001b[0;34m,\u001b[0m \u001b[0mdone\u001b[0m\u001b[0;34m,\u001b[0m \u001b[0minfo\u001b[0m \u001b[0;34m=\u001b[0m\u001b[0menv\u001b[0m\u001b[0;34m.\u001b[0m\u001b[0mstep\u001b[0m\u001b[0;34m(\u001b[0m\u001b[0mact\u001b[0m\u001b[0;34m)\u001b[0m\u001b[0;34m\u001b[0m\u001b[0m\n\u001b[0;32m---> 15\u001b[0;31m             \u001b[0mlist_s\u001b[0m\u001b[0;34m.\u001b[0m\u001b[0mappend\u001b[0m\u001b[0;34m(\u001b[0m\u001b[0;34m(\u001b[0m\u001b[0mnext_state\u001b[0m\u001b[0;34m,\u001b[0m \u001b[0mact\u001b[0m\u001b[0;34m,\u001b[0m \u001b[0mrew\u001b[0m\u001b[0;34m)\u001b[0m\u001b[0;34m)\u001b[0m\u001b[0;34m\u001b[0m\u001b[0m\n\u001b[0m\u001b[1;32m     16\u001b[0m             \u001b[0;32mif\u001b[0m \u001b[0mdone\u001b[0m\u001b[0;34m==\u001b[0m\u001b[0;32mTrue\u001b[0m\u001b[0;34m:\u001b[0m\u001b[0;34m\u001b[0m\u001b[0m\n\u001b[1;32m     17\u001b[0m                 \u001b[0;32mbreak\u001b[0m\u001b[0;34m\u001b[0m\u001b[0m\n",
      "\u001b[0;31mAttributeError\u001b[0m: 'numpy.ndarray' object has no attribute 'append'"
     ]
    }
   ],
   "source": [
    "def mc_predict(env, policy, n_eps=10):\n",
    "    list_s = np.zeros((env.nS))\n",
    "    returns =[]\n",
    "    ep_visits={}\n",
    "    first_visits={}\n",
    "    count_visits={}\n",
    "    #while True\n",
    "\n",
    "    #generate episode \n",
    "    for ep in range(n_eps):\n",
    "\n",
    "        #Generate an episode with 100 time steps\n",
    "        s=env.reset()\n",
    "        for t in range(100):\n",
    "            act=policy[s]\n",
    "            next_state, rew, done, info =env.step(act)\n",
    "            list_s.append((next_state, act, rew))\n",
    "            if done==True:\n",
    "                break\n",
    "            state=next_state\n",
    "\n",
    "        #Find the FIRST time each state was visited in the episode \n",
    "        for (state, act, rew) in list_s:\n",
    "            if not state in ep_visits.keys():\n",
    "                ep_visits[state]=rew\n",
    "            \n",
    "        for (key, val) in ep_visits:  \n",
    "            if not key in first_vists.keys():\n",
    "                first_visits[key] = rew\n",
    "                count_visits[key] = 1.0\n",
    "            else:\n",
    "                first_visits[key] += rew\n",
    "                count_visits[key] += 1.0\n",
    "                \n",
    "        #Take the average\n",
    "        ep_visits/count_visits\n",
    "        \n",
    "    \n",
    "        return\n",
    "    \n",
    "mc_predict(env, rand_pol)"
   ]
  },
  {
   "cell_type": "code",
   "execution_count": 27,
   "metadata": {},
   "outputs": [
    {
     "name": "stdout",
     "output_type": "stream",
     "text": [
      "[(0, 0, 0.0), (0, 0, 0.0), (0, 0, 0.0), (0, 0, 0.0), (4, 0, 0.0), (8, 0, 0.0), (4, 0, 0.0), (8, 0, 0.0), (4, 0, 0.0), (8, 0, 0.0)]\n"
     ]
    }
   ],
   "source": [
    "s=env.reset()\n",
    "list_s=[]\n",
    "for t in range(10):\n",
    "        act=rand_pol[s]\n",
    "        next_state, rew, done, info= env.step(act)\n",
    "        list_s.append((next_state, act, rew))\n",
    "        if done==True:\n",
    "            break\n",
    "        state=next_state\n",
    "print(list_s)"
   ]
  },
  {
   "cell_type": "code",
   "execution_count": 28,
   "metadata": {},
   "outputs": [],
   "source": [
    "first_visits={}\n",
    "for (state, act, rew) in list_s:\n",
    "    if not state in first_visits.keys():\n",
    "        first_visits[state] = rew"
   ]
  },
  {
   "cell_type": "code",
   "execution_count": 29,
   "metadata": {},
   "outputs": [
    {
     "data": {
      "text/plain": [
       "{0: 0.0, 4: 0.0, 8: 0.0}"
      ]
     },
     "execution_count": 29,
     "metadata": {},
     "output_type": "execute_result"
    }
   ],
   "source": [
    "first_visits"
   ]
  },
  {
   "cell_type": "code",
   "execution_count": null,
   "metadata": {},
   "outputs": [],
   "source": [
    "        '''  G =0\n",
    "            G =G+R[next_state]\n",
    "            if not s in s_list\n",
    "            returns.append(R[s])\n",
    "            V[s]=average(returns)'''"
   ]
  }
 ],
 "metadata": {
  "kernelspec": {
   "display_name": "Python 3",
   "language": "python",
   "name": "python3"
  },
  "language_info": {
   "codemirror_mode": {
    "name": "ipython",
    "version": 3
   },
   "file_extension": ".py",
   "mimetype": "text/x-python",
   "name": "python",
   "nbconvert_exporter": "python",
   "pygments_lexer": "ipython3",
   "version": "3.6.3"
  }
 },
 "nbformat": 4,
 "nbformat_minor": 2
}
