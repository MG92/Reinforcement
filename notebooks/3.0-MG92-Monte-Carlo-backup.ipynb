{
 "cells": [
  {
   "cell_type": "markdown",
   "metadata": {},
   "source": [
    "Rather than bootstrapping for eps, use MC methods"
   ]
  },
  {
   "cell_type": "code",
   "execution_count": 1,
   "metadata": {},
   "outputs": [],
   "source": [
    "import gym\n",
    "import numpy as np"
   ]
  },
  {
   "cell_type": "code",
   "execution_count": 27,
   "metadata": {},
   "outputs": [
    {
     "name": "stdout",
     "output_type": "stream",
     "text": [
      "Num actions: 6\n"
     ]
    }
   ],
   "source": [
    "print('Num actions: %i'%env.nA)"
   ]
  },
  {
   "cell_type": "code",
   "execution_count": 3,
   "metadata": {
    "scrolled": true
   },
   "outputs": [],
   "source": [
    "import Box2D\n",
    "env = gym.make('Blackjack-v0')#.env\n",
    "rand_pol = np.random.randint(0,6,1000)\n",
    "obs= env.reset()\n",
    "#env.render()"
   ]
  },
  {
   "cell_type": "code",
   "execution_count": 18,
   "metadata": {},
   "outputs": [
    {
     "name": "stdout",
     "output_type": "stream",
     "text": [
      "Discrete(2)\n",
      "Tuple(Discrete(32), Discrete(11), Discrete(2))\n"
     ]
    }
   ],
   "source": [
    "print(env.action_space)\n",
    "print(env.observation_space)"
   ]
  },
  {
   "cell_type": "code",
   "execution_count": 193,
   "metadata": {},
   "outputs": [
    {
     "name": "stdout",
     "output_type": "stream",
     "text": [
      "dict_values([0.0, -1.0, 0.0, -1.0, 1.0, 0.0, -1.0, 0.0, 0.0, 0.0, -1.0, 0.0, 0.0, 0.0, -1.0, 1.0, -1.0, -1.0, 0.0, 0.0, -1.0, 0.0, 0.0])\n"
     ]
    },
    {
     "ename": "TypeError",
     "evalue": "must use keyword argument for key function",
     "output_type": "error",
     "traceback": [
      "\u001b[0;31m---------------------------------------------------------------------------\u001b[0m",
      "\u001b[0;31mTypeError\u001b[0m                                 Traceback (most recent call last)",
      "\u001b[0;32m<ipython-input-193-62fdeae0c02c>\u001b[0m in \u001b[0;36m<module>\u001b[0;34m()\u001b[0m\n\u001b[1;32m     66\u001b[0m \u001b[0mdic\u001b[0m \u001b[0;34m=\u001b[0m \u001b[0mevery_visit_mc\u001b[0m\u001b[0;34m(\u001b[0m\u001b[0menv\u001b[0m\u001b[0;34m)\u001b[0m\u001b[0;34m\u001b[0m\u001b[0m\n\u001b[1;32m     67\u001b[0m \u001b[0mprint\u001b[0m\u001b[0;34m(\u001b[0m\u001b[0mdic\u001b[0m\u001b[0;34m.\u001b[0m\u001b[0mvalues\u001b[0m\u001b[0;34m(\u001b[0m\u001b[0;34m)\u001b[0m\u001b[0;34m)\u001b[0m\u001b[0;34m\u001b[0m\u001b[0m\n\u001b[0;32m---> 68\u001b[0;31m \u001b[0mprint\u001b[0m\u001b[0;34m(\u001b[0m\u001b[0msorted\u001b[0m\u001b[0;34m(\u001b[0m\u001b[0mdic\u001b[0m\u001b[0;34m,\u001b[0m \u001b[0;32mlambda\u001b[0m \u001b[0mx\u001b[0m\u001b[0;34m:\u001b[0m\u001b[0mx\u001b[0m\u001b[0;34m[\u001b[0m\u001b[0;36m1\u001b[0m\u001b[0;34m]\u001b[0m\u001b[0;34m)\u001b[0m\u001b[0;34m)\u001b[0m\u001b[0;34m\u001b[0m\u001b[0m\n\u001b[0m",
      "\u001b[0;31mTypeError\u001b[0m: must use keyword argument for key function"
     ]
    }
   ],
   "source": [
    "def policy(score):\n",
    "    return 0 if score>=20 else 1\n",
    "\n",
    "def every_visit_mc(env, n_eps=100):\n",
    "    all_visits={}\n",
    "    count_visits={}\n",
    "    returns ={}\n",
    "    \n",
    "    #generate episode \n",
    "    for ep in range(n_eps):\n",
    "        list_s=[]\n",
    "        \n",
    "        ep_visits={}\n",
    "        ep_counts = {}\n",
    "        ep_returns = {}\n",
    "        \n",
    "        #print('Episode %i'%ep)\n",
    "        \n",
    "        rew=0.0\n",
    "        obs =env.reset()\n",
    "        list_s.append([obs[0], rew])\n",
    "        \n",
    "        for t in range(100):\n",
    "            #print('Observation: ',obs)\n",
    "            score, dealer_score, ace = obs\n",
    "            action = policy(score)\n",
    "            #print('Action: %s'%action)\n",
    "            \n",
    "            obs, rew, done, info = env.step(action)\n",
    "            #print('Reward', rew)\n",
    "            list_s.append([obs[0], float(rew)])\n",
    "            \n",
    "            if done:\n",
    "                #print('Final reward: ',float(rew))\n",
    "                break\n",
    "            #print(\"State: %s --> action %s, reward: %s, done: %s\"%(obs[0], action, rew, done))\n",
    "            \n",
    "\n",
    "        #Find the FIRST time each state was visited in the episode \n",
    "        for (state, rew) in list_s:\n",
    "            if not state in ep_visits.keys():\n",
    "                if (state==20 or state==21) and rew==0.0:\n",
    "                    continue\n",
    "                else:\n",
    "                    ep_visits[state]=float(rew)\n",
    "                    ep_counts[state]=1.0\n",
    "                    all_visits[state]=float(rew)\n",
    "                    count_visits[state]=1.0\n",
    "            else:\n",
    "                ep_visits[state]+=float(rew)\n",
    "                ep_counts[state]+=1.0\n",
    "                count_visits[state]+=1.0\n",
    "                all_visits[state]+=float(rew)\n",
    "       \n",
    "        for (key, val) in ep_visits.items():\n",
    "            ep_returns[key]=ep_visits[key]/ep_counts[key]\n",
    "        #print('Returns for this episode: %s \\n'%ep_returns)\n",
    "\n",
    "    #Take the average across all episodes \n",
    "    for (key, val) in all_visits.items():\n",
    "        returns[key]=all_visits[key]/count_visits[key]\n",
    "    #print('Final avg returns: %s \\n'%returns)\n",
    "        \n",
    "    return returns\n",
    "    \n",
    "dic = every_visit_mc(env)\n",
    "print(dic.values())\n",
    "print(sorted(dic, lambda x:x[1]))"
   ]
  },
  {
   "cell_type": "markdown",
   "metadata": {},
   "source": [
    "Becuase we cannot subtract cards in blackjack, every-visit MC would produce the same results as first-visit"
   ]
  },
  {
   "cell_type": "code",
   "execution_count": null,
   "metadata": {},
   "outputs": [],
   "source": []
  }
 ],
 "metadata": {
  "kernelspec": {
   "display_name": "Python 3",
   "language": "python",
   "name": "python3"
  },
  "language_info": {
   "codemirror_mode": {
    "name": "ipython",
    "version": 3
   },
   "file_extension": ".py",
   "mimetype": "text/x-python",
   "name": "python",
   "nbconvert_exporter": "python",
   "pygments_lexer": "ipython3",
   "version": "3.6.3"
  }
 },
 "nbformat": 4,
 "nbformat_minor": 2
}
